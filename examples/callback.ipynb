{
 "cells": [
  {
   "cell_type": "code",
   "execution_count": 13,
   "outputs": [],
   "source": [
    "import math\n",
    "import time\n",
    "from randmut import randmut"
   ],
   "metadata": {
    "collapsed": false,
    "pycharm": {
     "name": "#%%\n"
    }
   }
  },
  {
   "cell_type": "code",
   "execution_count": 14,
   "outputs": [
    {
     "name": "stdout",
     "output_type": "stream",
     "text": [
      "\n",
      "\n",
      "Starting random mutations...\n",
      "Iter. |   Time  |    F.Evals    |        Result        |   Callback Result    |  Stall  | Progress  \n",
      "  10  |   17s   |      1100     | -2.9943382343341143  |     fevals=1100      |   4/10  | ##################\n"
     ]
    }
   ],
   "source": [
    "from randmut.randmut import Status\n",
    "\n",
    "\n",
    "def fun(x):\n",
    "    time.sleep(0.01) #to demonstrate live output\n",
    "    return sum([math.sin(v) for v in x])\n",
    "\n",
    "def callback(status: Status):\n",
    "    return f\"fevals={status.fevals}\"\n",
    "\n",
    "(x, f, _) = randmut(fun, 3 * [(-math.pi, math.pi)],\n",
    "                    n_pop=10, maxiterations=10, eps=0.01,\n",
    "                    callback=callback,\n",
    "                    disp_multiline=False)"
   ],
   "metadata": {
    "collapsed": false,
    "pycharm": {
     "name": "#%%\n"
    }
   }
  },
  {
   "cell_type": "code",
   "execution_count": 15,
   "outputs": [
    {
     "name": "stdout",
     "output_type": "stream",
     "text": [
      "Minimal value found: -2.9943382343341143\n",
      "With parameters: [-1.56239617 -1.46516283 -1.58103869]\n"
     ]
    }
   ],
   "source": [
    "print(\"Minimal value found:\", f)\n",
    "print(\"With parameters:\", x)"
   ],
   "metadata": {
    "collapsed": false,
    "pycharm": {
     "name": "#%%\n"
    }
   }
  }
 ],
 "metadata": {
  "kernelspec": {
   "display_name": "Python 3",
   "language": "python",
   "name": "python3"
  },
  "language_info": {
   "codemirror_mode": {
    "name": "ipython",
    "version": 2
   },
   "file_extension": ".py",
   "mimetype": "text/x-python",
   "name": "python",
   "nbconvert_exporter": "python",
   "pygments_lexer": "ipython2",
   "version": "2.7.6"
  }
 },
 "nbformat": 4,
 "nbformat_minor": 0
}